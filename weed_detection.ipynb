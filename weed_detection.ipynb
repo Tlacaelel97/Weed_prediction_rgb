{
 "cells": [
  {
   "cell_type": "code",
   "execution_count": null,
   "id": "1d23c7bb",
   "metadata": {},
   "outputs": [],
   "source": [
    "import numpy as np\n",
    "import pandas as pd"
   ]
  },
  {
   "cell_type": "code",
   "execution_count": 1,
   "id": "cd24e058",
   "metadata": {},
   "outputs": [],
   "source": [
    "r_band, g_band, b_band = None, None, None\n",
    "affine_transform, src_to_band_transformer, band_to_src_transformer = None, None, None"
   ]
  },
  {
   "cell_type": "code",
   "execution_count": 2,
   "id": "96e7a7e3",
   "metadata": {},
   "outputs": [],
   "source": [
    "from pyproj import CRS, Transformer\n",
    "import rasterio\n",
    "\n",
    "INPUT_CRS = CRS.from_epsg(4326)  # WGS84\n",
    "\n",
    "def setup_geospatial_data(rgb_tif_path):\n",
    "    \"\"\"\n",
    "    1. Abre el TIFF multibanda.\n",
    "    2. Lee R, G y B en arrays separados.\n",
    "    3. Lee la transformada afín y el CRS del dataset.\n",
    "    4. Crea transformers WGS84 <-> CRS del TIFF.\n",
    "    \"\"\"\n",
    "    global r_band, g_band, b_band\n",
    "    global affine_transform, src_to_band_transformer, band_to_src_transformer\n",
    "\n",
    "    with rasterio.open(rgb_tif_path) as ds:\n",
    "        # Banda 1 → Rojo, 2 → Verde, 3 → Azul\n",
    "        r_band = ds.read(1)\n",
    "        g_band = ds.read(2)\n",
    "        b_band = ds.read(3)\n",
    "\n",
    "        affine_transform = ds.transform\n",
    "        band_crs = ds.crs\n",
    "\n",
    "        # Transformadores coordenadas\n",
    "        src_to_band_transformer = Transformer.from_crs(INPUT_CRS, band_crs, always_xy=True)\n",
    "        band_to_src_transformer = Transformer.from_crs(band_crs, INPUT_CRS, always_xy=True)\n"
   ]
  },
  {
   "cell_type": "code",
   "execution_count": 3,
   "id": "75c28b3b",
   "metadata": {},
   "outputs": [
    {
     "name": "stdout",
     "output_type": "stream",
     "text": [
      "2025-06-15 19:45:59.945016 Configurando datos geoespaciales RGB\n",
      "¡Listo! Tiempo: 0:00:46.275503\n"
     ]
    }
   ],
   "source": [
    "import datetime\n",
    "rgb_tif_path = \"data/IN/Lalo Campos_Abril.tif\"\n",
    "\n",
    "start = datetime.datetime.now()\n",
    "print(start, \"Configurando datos geoespaciales RGB\")\n",
    "setup_geospatial_data(rgb_tif_path)\n",
    "print(\"¡Listo! Tiempo:\", datetime.datetime.now() - start)\n"
   ]
  },
  {
   "cell_type": "code",
   "execution_count": 4,
   "id": "28ca9a86",
   "metadata": {},
   "outputs": [],
   "source": [
    "from rasterio.transform import rowcol\n",
    "\n",
    "def get_reflectance_rgb(lat, lon):\n",
    "    # Pasa lon/lat → coordenadas del TIFF\n",
    "    x, y = src_to_band_transformer.transform(lon, lat)\n",
    "    row, col = rowcol(affine_transform, x, y)\n",
    "\n",
    "    # Comprueba límites\n",
    "    if not (0 <= row < r_band.shape[0] and 0 <= col < r_band.shape[1]):\n",
    "        return None\n",
    "\n",
    "    # Devuelve R, G, B\n",
    "    return (\n",
    "      int(r_band[row, col]),\n",
    "      int(g_band[row, col]),\n",
    "      int(b_band[row, col])\n",
    "    )\n"
   ]
  },
  {
   "cell_type": "code",
   "execution_count": null,
   "id": "53518155",
   "metadata": {},
   "outputs": [],
   "source": [
    "def compute_exg(r, g, b):\n",
    "    return 2*g - r - b\n",
    "\n",
    "# Ejemplo de máscara para todo el raster:\n",
    "exg = compute_exg(r_band, g_band, b_band)\n",
    "veg_mask = exg > 20   # ajusta el umbral según tus datos\n",
    "\n",
    "# Para un DataFrame vectorizado:\n",
    "rows, cols = np.indices(r_band.shape)\n",
    "df_rgb = pd.DataFrame({\n",
    "    'row': rows.ravel(), 'col': cols.ravel(),\n",
    "    'R': r_band.ravel(), 'G': g_band.ravel(), 'B': b_band.ravel(),\n",
    "    'ExG': exg.ravel()\n",
    "})\n",
    "df_rgb = df_rgb[df_rgb.ExG > 20]\n"
   ]
  },
  {
   "cell_type": "code",
   "execution_count": null,
   "id": "565e7956",
   "metadata": {},
   "outputs": [],
   "source": []
  },
  {
   "cell_type": "code",
   "execution_count": null,
   "id": "c936e300",
   "metadata": {},
   "outputs": [],
   "source": []
  }
 ],
 "metadata": {
  "kernelspec": {
   "display_name": "myenv",
   "language": "python",
   "name": "python3"
  },
  "language_info": {
   "codemirror_mode": {
    "name": "ipython",
    "version": 3
   },
   "file_extension": ".py",
   "mimetype": "text/x-python",
   "name": "python",
   "nbconvert_exporter": "python",
   "pygments_lexer": "ipython3",
   "version": "3.12.3"
  }
 },
 "nbformat": 4,
 "nbformat_minor": 5
}
