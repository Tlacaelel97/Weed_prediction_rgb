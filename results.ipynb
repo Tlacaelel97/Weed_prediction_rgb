{
 "cells": [
  {
   "cell_type": "markdown",
   "id": "f5c0f4a4",
   "metadata": {},
   "source": [
    "# Resultados Deteccion Maleza"
   ]
  },
  {
   "cell_type": "markdown",
   "id": "3edd799b",
   "metadata": {},
   "source": [
    "## RGB"
   ]
  },
  {
   "cell_type": "markdown",
   "id": "28171318",
   "metadata": {},
   "source": [
    "### Entrenamiento"
   ]
  },
  {
   "cell_type": "code",
   "execution_count": null,
   "id": "257e4006",
   "metadata": {},
   "outputs": [
    {
     "name": "stdout",
     "output_type": "stream",
     "text": [
      "Entrenando...\n",
      "Evaluando en test set...\n",
      "Matriz de confusión:\n",
      " [[272663   4396]\n",
      " [  9843  57591]]\n",
      "Classification Report:\n",
      "               precision    recall  f1-score   support\n",
      "\n",
      "           0       0.97      0.98      0.97    277059\n",
      "           1       0.93      0.85      0.89     67434\n",
      "\n",
      "    accuracy                           0.96    344493\n",
      "   macro avg       0.95      0.92      0.93    344493\n",
      "weighted avg       0.96      0.96      0.96    344493\n",
      "\n",
      "Modelo guardado en rf_model_new_data.pkl\n"
     ]
    }
   ],
   "source": [
    "%run train_rgb_model.py \\\n",
    "  --raster \"data/IN/Lalo Campos_Abril.tif\" \\\n",
    "  --weed_csv \"data/IN/cleaned_weed.csv\" \\\n",
    "  --notweed_csv \"data/IN/cleaned_no_weed.csv\" \\\n",
    "  --output \"rf_model_new_data.pkl\"\n"
   ]
  },
  {
   "cell_type": "markdown",
   "id": "0bb3bb16",
   "metadata": {},
   "source": [
    "## Detección"
   ]
  },
  {
   "cell_type": "code",
   "execution_count": 2,
   "id": "bcd5f43b",
   "metadata": {},
   "outputs": [
    {
     "name": "stdout",
     "output_type": "stream",
     "text": [
      "Predicción completada en weed_pred.tif\n"
     ]
    }
   ],
   "source": [
    "%run detect.py --raster data/IN/proan_pivote.tif --model rf_rgb_model.pkl"
   ]
  },
  {
   "cell_type": "markdown",
   "id": "5045d748",
   "metadata": {},
   "source": []
  }
 ],
 "metadata": {
  "kernelspec": {
   "display_name": "myenv",
   "language": "python",
   "name": "python3"
  },
  "language_info": {
   "codemirror_mode": {
    "name": "ipython",
    "version": 3
   },
   "file_extension": ".py",
   "mimetype": "text/x-python",
   "name": "python",
   "nbconvert_exporter": "python",
   "pygments_lexer": "ipython3",
   "version": "3.12.3"
  }
 },
 "nbformat": 4,
 "nbformat_minor": 5
}
